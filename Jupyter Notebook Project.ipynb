{
 "cells": [
  {
   "cell_type": "markdown",
   "id": "6d0a2006",
   "metadata": {},
   "source": [
    "# Final Project - Create, Modify, and Submit a Jupyter Notebook"
   ]
  },
  {
   "cell_type": "markdown",
   "id": "cdcd0466",
   "metadata": {},
   "source": [
    "Project components:\n",
    "\n",
    "- [ ] markdown\n",
    "- [ ] code\n",
    "- [ ] bold\n",
    "- [ ] italics\n",
    "- [ ] H1\n",
    "- [ ] H2\n",
    "- [ ] table\n",
    "- [ ] graph\n"
   ]
  },
  {
   "cell_type": "markdown",
   "id": "1cf2af50",
   "metadata": {},
   "source": [
    "<a id=\"anchor\"></a>\n",
    "    \n",
    "### **Question 1:**\n",
    "\n",
    "### *A car with a full tank of gas drives 80 miles per hour for 3 hours before running out of gas. How many miles can the car go per tank?*\n"
   ]
  },
  {
   "cell_type": "code",
   "execution_count": 4,
   "id": "57d8ace1",
   "metadata": {},
   "outputs": [
    {
     "data": {
      "text/plain": [
       "240"
      ]
     },
     "execution_count": 4,
     "metadata": {},
     "output_type": "execute_result"
    }
   ],
   "source": [
    "80 * 3"
   ]
  },
  {
   "cell_type": "markdown",
   "id": "3186a4a6",
   "metadata": {},
   "source": [
    "240 miles per tank"
   ]
  },
  {
   "cell_type": "markdown",
   "id": "e42389cc",
   "metadata": {},
   "source": [
    "### **Question 2:**\n",
    "### A runner travels a half marathon (13.1 miles) in 3 hours. How fast was this runner going in miles per hour?    "
   ]
  },
  {
   "cell_type": "code",
   "execution_count": 3,
   "id": "fd460761",
   "metadata": {},
   "outputs": [
    {
     "data": {
      "text/plain": [
       "4.366666666666666"
      ]
     },
     "execution_count": 3,
     "metadata": {},
     "output_type": "execute_result"
    }
   ],
   "source": [
    "13.1 / 3"
   ]
  },
  {
   "cell_type": "markdown",
   "id": "d0fa00ca",
   "metadata": {},
   "source": [
    "4.37 mph"
   ]
  },
  {
   "cell_type": "code",
   "execution_count": null,
   "id": "d5a7813c",
   "metadata": {},
   "outputs": [],
   "source": []
  },
  {
   "cell_type": "markdown",
   "id": "5b61c144",
   "metadata": {},
   "source": [
    "### **Question 3:**\n",
    "\n",
    "### *The spread of a virus is exponential. If 5 people are infected and each person infects 2 other people, how many people have been infected after 5 rounds of infection?"
   ]
  },
  {
   "cell_type": "markdown",
   "id": "4f9c0d2e",
   "metadata": {},
   "source": [
    "| Round | # Infected |\n",
    "|-------|------------|\n",
    "|   0   |       5    |\n",
    "|   1   |      10    |\n",
    "|   2   |      20    |\n",
    "|   3   |      40    |\n",
    "|   4   |      80    |\n",
    "|   5   |     160    |  "
   ]
  },
  {
   "cell_type": "code",
   "execution_count": 6,
   "id": "72bf8d11",
   "metadata": {},
   "outputs": [],
   "source": [
    "import numpy as np\n",
    "import pandas as pd\n",
    "from matplotlib import pyplot as plt\n"
   ]
  },
  {
   "cell_type": "code",
   "execution_count": 12,
   "id": "f10b8834",
   "metadata": {},
   "outputs": [
    {
     "data": {
      "image/png": "[encoded data removed]",
      "text/plain": [
       "<Figure size 432x288 with 1 Axes>"
      ]
     },
     "metadata": {
      "needs_background": "light"
     },
     "output_type": "display_data"
    }
   ],
   "source": [
    "# x-axis values\n",
    "x = [0, 1, 2, 3, 4, 5]\n",
    " \n",
    "# Y-axis values\n",
    "y = [5, 10, 20, 40, 80, 160]\n",
    "\n",
    "# Adding Title\n",
    "plt.title(\"# Infections per Round\")\n",
    " \n",
    "# Labeling the axes\n",
    "plt.xlabel(\"Round\")\n",
    "plt.ylabel(\"# Infected\")\n",
    "\n",
    "# Function to plot\n",
    "plt.plot(x, y)\n",
    "\n",
    "# function to show the plot\n",
    "plt.show()"
   ]
  },
  {
   "cell_type": "markdown",
   "id": "79673c9f",
   "metadata": {},
   "source": [
    "[Return to Top](#anchor)"
   ]
  },
  {
   "cell_type": "code",
   "execution_count": null,
   "id": "8c9b46a6",
   "metadata": {},
   "outputs": [],
   "source": []
  }
 ],
 "metadata": {
  "kernelspec": {
   "display_name": "Python 3 (ipykernel)",
   "language": "python",
   "name": "python3"
  },
  "language_info": {
   "codemirror_mode": {
    "name": "ipython",
    "version": 3
   },
   "file_extension": ".py",
   "mimetype": "text/x-python",
   "name": "python",
   "nbconvert_exporter": "python",
   "pygments_lexer": "ipython3",
   "version": "3.8.12"
  }
 },
 "nbformat": 4,
 "nbformat_minor": 5
}
